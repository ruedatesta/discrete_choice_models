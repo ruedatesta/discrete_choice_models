{
 "cells": [
  {
   "cell_type": "markdown",
   "id": "edebf7c6",
   "metadata": {},
   "source": [
    "## The Probit model\n",
    "\n",
    "Assume an agent $n \\in N$ has to decide between two alternatives, working $(i=1)$ or leisure $(i=0)$. The utility can be writen as\n",
    "\n",
    "$U_{n1}=\\beta x_n+\\varepsilon_{n1} $ if the agent chose to work\n",
    "\n",
    "$U_{n0}=\\mu +\\varepsilon_{n0} $ if the agent chose to do not work, i.e., leisure.\n",
    "\n",
    "The utility of working can be written as a linear component plus an idiosyncratic shock. If an agent $n$ chooses to work, she achieves a utility that is a function of her education attainment $x$ plus a working-related shock. The parameter $\\beta$ indicates the premium for each year of education, a parameter we are interested in recover it.\n",
    "\n",
    "The utility of not-working can be written as a fixed component $\\mu$ plus a leisure-related idiosyncratic shock. The fixed component can be interpreted as unemployment insurance and for simplicity, we are assuming it does not vary between agents. This assumption can be relaxed easily.\n",
    "\n",
    "The shock $\\varepsilon_{nj}$, $j=\\{0,1\\}$ is i.i.d. and choice specific, meaning that the agent face as many shocks as decisions she can choose from. In this model, we are going to assume that these idiosyncratic shocks come from standard Normal distrubution."
   ]
  },
  {
   "cell_type": "markdown",
   "id": "51bc7b2c",
   "metadata": {},
   "source": [
    "### Decision\n",
    "The agent has to decide between working or do not working. In doing so, she need to compare the utility reported by each alternative. The agent will work if\n",
    "\n",
    "$$U_{n1}>U_{n0}$$\n",
    "\n",
    "In terms of of probabilities, we can write\n",
    "\n",
    "$$Pr(U_{n1}>U_{n0})$$\n",
    "\n",
    "Using the expression for the utilities, we have\n",
    "\n",
    "$$Pr(\\beta x_n+\\varepsilon_{n1}>\\mu +\\varepsilon_{n0})$$\n",
    "\n",
    "And after some manipulation, he have\n",
    "\n",
    "$$Pr(\\varepsilon_{n0}-\\varepsilon_{n1}<\\beta x_n-\\mu)$$\n",
    "\n",
    "Due to the fact that the error is iid normal distributed, the term in the left also distributes normally but with mean $0$ and standard deviation $\\sqrt{2}$. That is\n",
    "\n",
    "$$z \\sim N(0,\\sqrt{2})$$\n",
    "\n",
    "Where $z=\\varepsilon_{n0}-\\varepsilon_{n1}$.\n",
    "\n",
    "### Numerical example\n",
    "\n",
    "Let's simulate data on education for 1000 agents. For doing that, in Julia, we need to use `Plots`, `Distributions`, and `Random packages`. Let's set a seed so our results are replicable."
   ]
  },
  {
   "cell_type": "code",
   "execution_count": 1,
   "id": "9a709ae3",
   "metadata": {},
   "outputs": [
    {
     "data": {
      "text/plain": [
       "0.6366"
      ]
     },
     "metadata": {},
     "output_type": "display_data"
    }
   ],
   "source": [
    "using Plots, Distributions, Random, Optim, BenchmarkTools\n",
    "\n",
    "Random.seed!(3)\n",
    "β=0.5\n",
    "μ=2.0;\n",
    "n=10000\n",
    "x=rand(Uniform(1, 10),n)\n",
    "\n",
    "dist=Normal();\n",
    "ϵw=rand(dist,n);\n",
    "ϵn=rand(dist,n);\n",
    "\n",
    "uw=β*x+ϵw;\n",
    "un=ϵn.+μ;\n",
    "\n",
    "decision=zeros(n)\n",
    "for i=1:n\n",
    "    if uw[i]>un[i]\n",
    "        decision[i]=1\n",
    "    else\n",
    "        decision[i]=0\n",
    "    end\n",
    "end\n",
    "mean(decision)"
   ]
  },
  {
   "cell_type": "markdown",
   "id": "43685b6d",
   "metadata": {},
   "source": [
    "Now, let's define our distribution z. In Julia, this can implemented as"
   ]
  },
  {
   "cell_type": "code",
   "execution_count": 2,
   "id": "52c18bf1",
   "metadata": {},
   "outputs": [],
   "source": [
    "z=Normal(0,sqrt(2));"
   ]
  },
  {
   "cell_type": "markdown",
   "id": "fd5c3745",
   "metadata": {},
   "source": [
    "And our `prob(β,μ)` function can be written as"
   ]
  },
  {
   "cell_type": "code",
   "execution_count": 3,
   "id": "28d5d1b2",
   "metadata": {},
   "outputs": [
    {
     "data": {
      "text/plain": [
       "prob (generic function with 1 method)"
      ]
     },
     "metadata": {},
     "output_type": "display_data"
    }
   ],
   "source": [
    "function prob(β,μ)\n",
    "    pr=cdf(z,β*x.-[μ])\n",
    "end"
   ]
  },
  {
   "cell_type": "markdown",
   "id": "c8d1744f",
   "metadata": {},
   "source": [
    "Finally, we need to write our Log-Likelihood function. No changes from two previous lectures."
   ]
  },
  {
   "cell_type": "code",
   "execution_count": 4,
   "id": "5237398a",
   "metadata": {},
   "outputs": [
    {
     "data": {
      "text/plain": [
       "logL_fn (generic function with 1 method)"
      ]
     },
     "metadata": {},
     "output_type": "display_data"
    }
   ],
   "source": [
    "function logL_fn(θ) #LogL function\n",
    "    β=θ[1]\n",
    "    μ=θ[2]\n",
    "    logL=0\n",
    "    n=1000\n",
    "    pr=prob(β,μ)\n",
    "    for id=1:n \n",
    "        logL=logL+log(pr[id])*decision[id]+log(1-pr[id])*(1-decision[id])\n",
    "    end\n",
    "    return -(logL)\n",
    "end"
   ]
  },
  {
   "cell_type": "markdown",
   "id": "42bbbfda",
   "metadata": {},
   "source": [
    "And through a MLE, we estimate our parameters"
   ]
  },
  {
   "cell_type": "code",
   "execution_count": 5,
   "id": "742ad3b3",
   "metadata": {},
   "outputs": [
    {
     "data": {
      "text/plain": [
       "2-element Vector{Float64}:\n",
       " 0.5106298425303077\n",
       " 2.0552833922712783"
      ]
     },
     "metadata": {},
     "output_type": "display_data"
    }
   ],
   "source": [
    "θguess=[0.4,1.0]\n",
    "res=optimize(logL_fn, θguess)\n",
    "θstar=Optim.minimizer(res)"
   ]
  },
  {
   "cell_type": "markdown",
   "id": "beeaff2b",
   "metadata": {},
   "source": [
    "Values that are very close to the true parameters."
   ]
  },
  {
   "cell_type": "markdown",
   "id": "117673e7",
   "metadata": {},
   "source": [
    "Go to Lecture 4: [Dynamic Probit Model with two choices](https://github.com/ruedatesta/discrete_choice_models/blob/main/lec4_dynamic_probit.ipynb)"
   ]
  }
 ],
 "metadata": {
  "kernelspec": {
   "display_name": "Julia 1.8.2",
   "language": "julia",
   "name": "julia-1.8"
  },
  "language_info": {
   "file_extension": ".jl",
   "mimetype": "application/julia",
   "name": "julia",
   "version": "1.8.2"
  }
 },
 "nbformat": 4,
 "nbformat_minor": 5
}
