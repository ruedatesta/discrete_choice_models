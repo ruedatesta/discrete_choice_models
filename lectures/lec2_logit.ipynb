{
 "cells": [
  {
   "cell_type": "markdown",
   "id": "5c6e2588",
   "metadata": {},
   "source": [
    "# The Logit Model through simulation\n",
    "\n",
    "\n",
    "Probably, the most important feature of the Logit model is the fact that the probability has a closed-form solution.\n",
    "However, this is not the case in general and it will be useful to re-solve the previous example through simulation.\n",
    "\n",
    "Assume the same environment as before, where an agent $n \\in N$ has to decide between two alternatives, working $(i=1)$ or leisure $(i=0)$. The utility can be writen as\n",
    "\n",
    "$U_{n1}=\\beta x_n+\\varepsilon_{n1} $ if the agent chose to work\n",
    "\n",
    "$U_{n0}=\\mu +\\varepsilon_{n0} $ if the agent chose to do not work, i.e., leisure."
   ]
  },
  {
   "cell_type": "markdown",
   "id": "0b913e72",
   "metadata": {},
   "source": [
    "We are interesting into solving the following probability\n",
    "\n",
    "$$Pr(\\varepsilon_{n0}-\\varepsilon_{n1}<\\beta x_n-\\mu)$$\n",
    "\n",
    "Let's re-write in Julia the previous steps up to the computation of the probability function `prob(β,μ)`.\n",
    "Notice that in this step, we need to the package `StatsBase` for computing an empirical cdf."
   ]
  },
  {
   "cell_type": "code",
   "execution_count": 6,
   "id": "0ed89214",
   "metadata": {},
   "outputs": [
    {
     "data": {
      "text/plain": [
       "0.666"
      ]
     },
     "execution_count": 6,
     "metadata": {},
     "output_type": "execute_result"
    }
   ],
   "source": [
    "using Plots, Distributions, Random, Optim, StatsBase\n",
    "β=0.5; # premium for education\n",
    "μ=2.0; # ui\n",
    "n=1000; # Number of individuals\n",
    "Random.seed!(3);\n",
    "x=rand(Uniform(1, 10),n);\n",
    "Random.seed!(3);\n",
    "dist=Gumbel();\n",
    "ϵw=rand(dist,n);\n",
    "ϵn=rand(dist,n);\n",
    "\n",
    "uw=β*x+ϵw;\n",
    "un=ϵn.+μ;\n",
    "\n",
    "decision=zeros(n)\n",
    "for i=1:n\n",
    "    if uw[i]>un[i]\n",
    "        decision[i]=1\n",
    "    else\n",
    "        decision[i]=0\n",
    "    end\n",
    "end\n",
    "mean(decision)"
   ]
  },
  {
   "cell_type": "markdown",
   "id": "e6e95be9",
   "metadata": {},
   "source": [
    "But now, as a difference with the previous example, we are going to use simulations to solve for this probability. The starting point will be seting the number of simulations `sim`"
   ]
  },
  {
   "cell_type": "code",
   "execution_count": 4,
   "id": "5d823fc6",
   "metadata": {},
   "outputs": [],
   "source": [
    "sim=2000;"
   ]
  },
  {
   "cell_type": "markdown",
   "id": "b6a507ac",
   "metadata": {},
   "source": [
    "Important to notice, this `sim` is not the number of people we are going to simulate, this was the object `n`. Here, we are going to set the number of draws for the working and not-working shocks. Our goal is to compute an empirical cummulative distribution function of the distribution $z=\\varepsilon_{n0}-\\varepsilon_{n1}$"
   ]
  },
  {
   "cell_type": "code",
   "execution_count": 12,
   "id": "3587f3b0",
   "metadata": {},
   "outputs": [],
   "source": [
    "ϵw_sim=rand(dist,sim);\n",
    "ϵn_sim=rand(dist,sim);\n",
    "\n",
    "z_sim=ϵn_sim-ϵw_sim;\n",
    "z_sim=sort!(z_sim);\n",
    "\n",
    "z_cdf=ecdf(z_sim); #This is the empirical cdf"
   ]
  },
  {
   "cell_type": "markdown",
   "id": "89f10410",
   "metadata": {},
   "source": [
    "In Julia, `e_cdf` is a higher-level function, that returns a function... Wait, what? \n",
    "\n",
    "In plain English, this means that `ecdf` is a function that take as an input a vector of realizations, and gives us a function that we can evaluate at any point. In our case, `z_sim` is the vector of realizations and `z_cdf`, is the empirical cdf function that we can evaluate. Let's see an example.\n",
    "\n",
    "We know that z_cdf is actually the cdf of a standard logistic distribution. Because a standard logistic distribution is symmetric, we know that the cdf evaluated at the mean should be 0.5. Let's check that our function is correct"
   ]
  },
  {
   "cell_type": "code",
   "execution_count": 14,
   "id": "4e080c64",
   "metadata": {},
   "outputs": [
    {
     "data": {
      "text/plain": [
       "0.47"
      ]
     },
     "execution_count": 14,
     "metadata": {},
     "output_type": "execute_result"
    }
   ],
   "source": [
    "z_cdf(0.0)"
   ]
  },
  {
   "cell_type": "markdown",
   "id": "b99f65d7",
   "metadata": {},
   "source": [
    "Our function is very close to the true value. If we want to improve how accurate is our empirical cdf, we could increase the number of draws.\n",
    "\n",
    "Now, let's focus on the main challenge of this example. Computing the function `prob(β,μ)`.\n",
    "Taking advantage of our previous function `z_cdf()`, we can define `prob(β,μ)` as a function that for any pairs of `(β,μ)`, returns the empirical cdf. A possible implementation in Julia can be"
   ]
  },
  {
   "cell_type": "code",
   "execution_count": 9,
   "id": "d66cb39e",
   "metadata": {},
   "outputs": [
    {
     "data": {
      "text/plain": [
       "prob (generic function with 1 method)"
      ]
     },
     "execution_count": 9,
     "metadata": {},
     "output_type": "execute_result"
    }
   ],
   "source": [
    "function prob(β,μ)\n",
    "    pr=z_cdf(β*x.-[μ])\n",
    "end"
   ]
  },
  {
   "cell_type": "markdown",
   "id": "6b71e8be",
   "metadata": {},
   "source": [
    "Now, we can copy-paste our Log-Likelihood function for the previous example"
   ]
  },
  {
   "cell_type": "code",
   "execution_count": 10,
   "id": "325ee0d4",
   "metadata": {},
   "outputs": [
    {
     "data": {
      "text/plain": [
       "logL_fn (generic function with 1 method)"
      ]
     },
     "execution_count": 10,
     "metadata": {},
     "output_type": "execute_result"
    }
   ],
   "source": [
    "function logL_fn(θ) #LogL function\n",
    "    β=θ[1]\n",
    "    μ=θ[2]\n",
    "    logL=0\n",
    "    n=1000\n",
    "    pr=prob(β,μ)\n",
    "    for id=1:n \n",
    "        logL=logL+log(pr[id])*decision[id]+log(1-pr[id])*(1-decision[id])\n",
    "    end\n",
    "    return -(logL)\n",
    "end"
   ]
  },
  {
   "cell_type": "markdown",
   "id": "5db3482b",
   "metadata": {},
   "source": [
    "And the estimation of our parameters of interest reads"
   ]
  },
  {
   "cell_type": "code",
   "execution_count": 11,
   "id": "f1955afb",
   "metadata": {},
   "outputs": [
    {
     "data": {
      "text/plain": [
       "2-element Vector{Float64}:\n",
       " 0.5786890474613755\n",
       " 2.359476813510991"
      ]
     },
     "execution_count": 11,
     "metadata": {},
     "output_type": "execute_result"
    }
   ],
   "source": [
    "θguess=[0.4,1.0];\n",
    "res=optimize(logL_fn, θguess)\n",
    "θstar=Optim.minimizer(res)"
   ]
  },
  {
   "cell_type": "markdown",
   "id": "0e6df425",
   "metadata": {},
   "source": [
    "The parameters estimated are close to the population parameters, however we can notice that they are not as closer as the previous example. Nevertheless, this can be fixed if we increase the the number of draws `sim`."
   ]
  },
  {
   "attachments": {},
   "cell_type": "markdown",
   "id": "dce8dcd4",
   "metadata": {},
   "source": [
    "Go to Lecture 3: [The Probit Model](https://github.com/ruedatesta/discrete_choice_models/blob/main/lec3_probit.ipynb)"
   ]
  }
 ],
 "metadata": {
  "kernelspec": {
   "display_name": "Julia 1.8.2",
   "language": "julia",
   "name": "julia-1.8"
  },
  "language_info": {
   "file_extension": ".jl",
   "mimetype": "application/julia",
   "name": "julia",
   "version": "1.8.2"
  }
 },
 "nbformat": 4,
 "nbformat_minor": 5
}
