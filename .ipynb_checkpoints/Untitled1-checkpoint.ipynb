{
 "cells": [
  {
   "cell_type": "markdown",
   "id": "4838d53a",
   "metadata": {},
   "source": [
    "## The Probit model\n",
    "\n",
    "Assume an agent $n \\in N$ has to decide between two alternatives, working $(i=1)$ or leisure $(i=0)$. The utility can be writen as\n",
    "\n",
    "$U_{n1}=\\beta x_n+\\varepsilon_{n1} $ if the agent chose to work\n",
    "\n",
    "$U_{n0}=\\mu +\\varepsilon_{n0} $ if the agent chose to do not work, i.e., leisure.\n",
    "\n",
    "The utility of working can be written as a linear component plus an idiosyncratic shock. If an agent $n$ chooses to work, she achieves a utility that is a function of her education attainment $x$ plus a working-related shock. The parameter $\\beta$ indicates the premium for each year of education, a parameter we are interested in recover it.\n",
    "\n",
    "The utility of not-working can be written as a fixed component $\\mu$ plus a leisure-related idiosyncratic shock. The fixed component can be interpreted as unemployment insurance and for simplicity, we are assuming it does not vary between agents. This assumption can be relaxed easily.\n",
    "\n",
    "The shock $\\varepsilon_{nj}$, $j=\\{0,1\\}$ is i.i.d. and choice specific, meaning that the agent face as many shocks as decisions she can choose from. In this model, we are going to assume that these idiosyncratic shocks come from standard Normal distrubution."
   ]
  },
  {
   "cell_type": "markdown",
   "id": "e053b215",
   "metadata": {},
   "source": [
    "### Decision\n",
    "The agent has to decide between working or do not working. In doing so, she need to compare the utility reported by each alternative. The agent will work if\n",
    "\n",
    "$$U_{n1}>U_{n0}$$\n",
    "\n",
    "In terms of of probabilities, we can write\n",
    "\n",
    "$$Pr(U_{n1}>U_{n0})$$\n",
    "\n",
    "Using the expression for the utilities, we have\n",
    "\n",
    "$$Pr(\\beta x_n+\\varepsilon_{n1}>\\mu +\\varepsilon_{n0})$$\n",
    "\n",
    "And after some manipulation, he have\n",
    "\n",
    "$$Pr(\\varepsilon_{n0}-\\varepsilon_{n1}<\\beta x_n-\\mu)$$\n",
    "\n",
    "Due to the fact that the error is iid normal distributed, the term in the left also distributes normally but with mean $0$ and standard deviation $\\sqrt{2}$. That is\n",
    "\n",
    "$$z \\sim N(0,\\sqrt{2})$$\n",
    "\n",
    "Where $z=\\varepsilon_{n0}-\\varepsilon_{n1}$.\n",
    "\n",
    "### Numerical example\n",
    "\n",
    "Let's simulate data on education for 1000 agents. For doing that, in Julia, we need to use `Plots`, `Distributions`, and `Random packages`. Let's set a seed so our results are replicable."
   ]
  },
  {
   "cell_type": "code",
   "execution_count": null,
   "id": "ae6a3221",
   "metadata": {},
   "outputs": [],
   "source": []
  }
 ],
 "metadata": {
  "kernelspec": {
   "display_name": "Julia 1.8.2",
   "language": "julia",
   "name": "julia-1.8"
  },
  "language_info": {
   "file_extension": ".jl",
   "mimetype": "application/julia",
   "name": "julia",
   "version": "1.8.2"
  }
 },
 "nbformat": 4,
 "nbformat_minor": 5
}
