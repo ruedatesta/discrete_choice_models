{
 "cells": [
  {
   "cell_type": "code",
   "execution_count": 1,
   "id": "bd26215a",
   "metadata": {},
   "outputs": [],
   "source": [
    "## Brief introduction to dynamic discrete choice models\n",
    "using Plots, Distributions, Random"
   ]
  },
  {
   "cell_type": "code",
   "execution_count": null,
   "id": "ce121d9d",
   "metadata": {},
   "outputs": [],
   "source": []
  }
 ],
 "metadata": {
  "kernelspec": {
   "display_name": "Julia 1.8.2",
   "language": "julia",
   "name": "julia-1.8"
  },
  "language_info": {
   "file_extension": ".jl",
   "mimetype": "application/julia",
   "name": "julia",
   "version": "1.8.2"
  }
 },
 "nbformat": 4,
 "nbformat_minor": 5
}
